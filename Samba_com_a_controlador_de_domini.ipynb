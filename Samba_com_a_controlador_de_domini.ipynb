{
  "nbformat": 4,
  "nbformat_minor": 0,
  "metadata": {
    "colab": {
      "name": "Samba com a controlador de domini.ipynb",
      "provenance": [],
      "collapsed_sections": [],
      "authorship_tag": "ABX9TyMo3//DGQkGjOZ0v7W7+Zqf",
      "include_colab_link": true
    },
    "kernelspec": {
      "name": "python3",
      "display_name": "Python 3"
    },
    "language_info": {
      "name": "python"
    }
  },
  "cells": [
    {
      "cell_type": "markdown",
      "metadata": {
        "id": "view-in-github",
        "colab_type": "text"
      },
      "source": [
        "<a href=\"https://colab.research.google.com/github/ntb-cicles/SMB-Linux-Windows/blob/main/Samba_com_a_controlador_de_domini.ipynb\" target=\"_parent\"><img src=\"https://colab.research.google.com/assets/colab-badge.svg\" alt=\"Open In Colab\"/></a>"
      ]
    },
    {
      "cell_type": "code",
      "execution_count": null,
      "metadata": {
        "id": "Qj9zU5gOk6P8"
      },
      "outputs": [],
      "source": [
        ""
      ]
    },
    {
      "cell_type": "markdown",
      "source": [
        "# Grup de treball VS Domini"
      ],
      "metadata": {
        "id": "NNvvTgc7mb9j"
      }
    },
    {
      "cell_type": "markdown",
      "source": [
        "Un **WORKGROUP** (grup de treball) és un **conjunt de màquines connectades a una mateixa xarxa**. En un workgroup **cada màquina gestiona de forma local els seus usuaris i contrasenyes**.\n",
        "\n",
        "\\\n",
        "\n",
        "Un **DOMAIN** (domini) és també un **conjunt de màquines connectades a una mateixa xarxa**. Però en un domain, és **només una màquina, amb rol de servidor, qui gestiona els usuaris i contrasenyes de totes les màquines del domini de la xarxa**. \n",
        "\n",
        "\\\n",
        "\n",
        "Usualment els dominis s'utilitzen en xarxes amb un gran nombre d'equips, per exemple, en una empresa on hi han 60 ordinadors, és molt més fàcil gestionar tots els usuaris i contrasenyes dels 60 ordinadors des d'un servidor que pas haver d'anar un per un de forma local."
      ],
      "metadata": {
        "id": "ks3OQHxolExm"
      }
    },
    {
      "cell_type": "markdown",
      "source": [
        "# Samba com a controlador de domini"
      ],
      "metadata": {
        "id": "AIWNLkR6mg3A"
      }
    },
    {
      "cell_type": "markdown",
      "source": [
        "Feu una nova còpia de seguretat del vostre fitxer de configuració de SAMBA (smb.conf) ja que tornarem a canviar-lo."
      ],
      "metadata": {
        "id": "XQSACumotqVF"
      }
    },
    {
      "cell_type": "markdown",
      "source": [
        "Comanda \"hostnamectl\" per saber el nom de la màquina que utilitzarem com a servidor."
      ],
      "metadata": {
        "id": "IgwutP9Nk84R"
      }
    },
    {
      "cell_type": "code",
      "source": [
        "hostnamectl"
      ],
      "metadata": {
        "id": "vXfDjHUEk9GF"
      },
      "execution_count": null,
      "outputs": []
    },
    {
      "cell_type": "code",
      "source": [
        "sudo apt update"
      ],
      "metadata": {
        "id": "Cfc37As_m-6h"
      },
      "execution_count": null,
      "outputs": []
    },
    {
      "cell_type": "code",
      "source": [
        "timedatectl"
      ],
      "metadata": {
        "id": "Ccos5E19nIaW"
      },
      "execution_count": null,
      "outputs": []
    },
    {
      "cell_type": "markdown",
      "source": [
        "Kerberos es tracta d'un protocol que serveix per a autenticar dos dispositius que es connecten entre si. No significa que vagi a autoritzar-los, sinó autenticar-los. La seva funció és identificar cada usuari mitjançant xifratge."
      ],
      "metadata": {
        "id": "qIXjX4CenJY5"
      }
    },
    {
      "cell_type": "code",
      "source": [
        "sudo apt-get install krb5-config"
      ],
      "metadata": {
        "id": "hyI1JlF_nJjQ"
      },
      "execution_count": null,
      "outputs": []
    },
    {
      "cell_type": "markdown",
      "source": [
        "Kerberos us demana introduir 3 noms:\n",
        "\n",
        "*   Kerberos realm: **EXAMPLE.COM**\n",
        "*   Servidors de Kerberos que utilitzarem: **nodenil.example.com**\n",
        "*   Servidor administratiu de Kerberos que utilitzarem: **nodenil.example.com**\n",
        "\n"
      ],
      "metadata": {
        "id": "AzRmjeYort-S"
      }
    },
    {
      "cell_type": "markdown",
      "source": [
        "Si us oblideu del nom que heu posat, es troba en el fitxer de configuració de kerberos, a la ruta **/etc/krb5.conf**"
      ],
      "metadata": {
        "id": "KXcNx3Df09XY"
      }
    },
    {
      "cell_type": "markdown",
      "source": [
        "Necessitem winbind per unir manualment una instància de Linux amb un domini de Microsoft Active Directory"
      ],
      "metadata": {
        "id": "OU6V51t6nnaI"
      }
    },
    {
      "cell_type": "code",
      "source": [
        "sudo apt-get install winbind"
      ],
      "metadata": {
        "id": "7U1w-dKenj1G"
      },
      "execution_count": null,
      "outputs": []
    },
    {
      "cell_type": "markdown",
      "source": [
        "Winbind us indica que vol canviar el vostre fitxer de configuració de SAMBA (smb.conf) per un altre nou. Accepteu-ho."
      ],
      "metadata": {
        "id": "esNOuusXtdBo"
      }
    },
    {
      "cell_type": "markdown",
      "source": [
        "Si no el teniu instal·lat, també poseu el smbclient (el client de samba)"
      ],
      "metadata": {
        "id": "3z3fK3FfoYiN"
      }
    },
    {
      "cell_type": "code",
      "source": [
        "sudo apt-get install smbclient"
      ],
      "metadata": {
        "id": "kJSSBi1zodDY"
      },
      "execution_count": null,
      "outputs": []
    },
    {
      "cell_type": "markdown",
      "source": [
        "A mesura que la vostra màquina s'iniciï, haurà de conèixer l'assignació d'alguns noms d'amfitrió a adreces IP abans que es pugui fer referència al DNS. Aquesta assignació es manté al fitxer /etc/hosts. En absència d'un servidor de noms, qualsevol programa de xarxa del vostre sistema consulta aquest fitxer per determinar l'adreça IP que correspon a un nom d'amfitrió."
      ],
      "metadata": {
        "id": "Fx_FPPvOt3Df"
      }
    },
    {
      "cell_type": "code",
      "source": [
        "nano /etc/hosts"
      ],
      "metadata": {
        "id": "kZ_yi6AOt3LD"
      },
      "execution_count": null,
      "outputs": []
    },
    {
      "cell_type": "code",
      "source": [
        "IPAddress       Hostname    \t\t   Alias\n",
        "127.0.0.1\t\t\t  localhost\t \t       deep.openna.com\n",
        "208.164.186.1\t\tdeep.openna.com\t\t deep\n",
        "208.164.186.2\t\tmail.openna.com\t\t mail\n",
        "208.164.186.3\t\tweb.openna.com\t\t web"
      ],
      "metadata": {
        "id": "WFl0trK5uKAr"
      },
      "execution_count": null,
      "outputs": []
    },
    {
      "cell_type": "markdown",
      "source": [
        "Heu d'afegir una nova línia en aquest fitxers /etc/hosts, després de la resta de línies, amb la **IP de la vostra màquina** servidor, el **nom del servidor de Kerberos**, i un **alias que li vulgueu donar**. Per exemple:"
      ],
      "metadata": {
        "id": "IhYwjm4xuIRt"
      }
    },
    {
      "cell_type": "code",
      "source": [
        "192.168.55.102\t\t  nodenil.example.com\t \t       nodenil"
      ],
      "metadata": {
        "id": "S5vjmM96vVd0"
      },
      "execution_count": null,
      "outputs": []
    },
    {
      "cell_type": "markdown",
      "source": [
        ""
      ],
      "metadata": {
        "id": "hWE0vubFv9zz"
      }
    },
    {
      "cell_type": "code",
      "source": [
        "cd /etc/samba\n",
        "mv smb.conf smb.conf.install"
      ],
      "metadata": {
        "id": "fCcMJwJ4wD4M"
      },
      "execution_count": null,
      "outputs": []
    },
    {
      "cell_type": "code",
      "source": [
        "samba-tool domain provision"
      ],
      "metadata": {
        "id": "IRI_TrFfwQfG"
      },
      "execution_count": null,
      "outputs": []
    },
    {
      "cell_type": "markdown",
      "source": [
        "Deixeu tots els camps per defecte. Us hauria de sortir el nom de domini que heu posat anteriorment, DC (voleu que el servidor funcioni com a controlador de domini), i els DNS per defecte.\n",
        "\n",
        "\\\n",
        "\n",
        "Només cal emplenar l'última opció, on cal posar una contrasenya per l'administrador del domini. Recordeu-la per més endavant!"
      ],
      "metadata": {
        "id": "o8sPpf45wab0"
      }
    },
    {
      "cell_type": "markdown",
      "source": [
        "Si no teniu la configuració de kerberos (krb5.conf) al directori /etc, cal moure-la:"
      ],
      "metadata": {
        "id": "z8u32Dmdw7t_"
      }
    },
    {
      "cell_type": "code",
      "source": [
        "ls -l /etc/ | grep krb  # si surt, no cal fer la comanda següent!\n",
        "cp /var/lib/samba/private/krb5.conf  /etc/"
      ],
      "metadata": {
        "id": "I0WOkHC2w3R_"
      },
      "execution_count": null,
      "outputs": []
    },
    {
      "cell_type": "markdown",
      "source": [
        "Cal desactivar els 4 serveis següents abans de continuar:"
      ],
      "metadata": {
        "id": "SSR_sQXFx0rw"
      }
    },
    {
      "cell_type": "code",
      "source": [
        "systemctl disable --now smbd \n",
        "systemctl disable --now nmbd \n",
        "systemctl disable --now winbind \n",
        "systemctl disable --now systemd-resolved.service \n",
        "systemctl unmask samba-ad-dc.service"
      ],
      "metadata": {
        "id": "I1EDOcPmxL7S"
      },
      "execution_count": null,
      "outputs": []
    },
    {
      "cell_type": "code",
      "source": [
        "systemctl enable --now samba-ad-dc.service"
      ],
      "metadata": {
        "id": "nUDM__pLxRDx"
      },
      "execution_count": null,
      "outputs": []
    },
    {
      "cell_type": "markdown",
      "source": [
        "Comprovar que estem simulant un Active Directory de Windows amb el samba:"
      ],
      "metadata": {
        "id": "TDgySVwVx35B"
      }
    },
    {
      "cell_type": "code",
      "source": [
        "samba-tool domain level show"
      ],
      "metadata": {
        "id": "2nQ9NprPxTBF"
      },
      "execution_count": null,
      "outputs": []
    },
    {
      "cell_type": "markdown",
      "source": [
        "Cal esborrar el link simbòlic següent, ja que hem de crear el nostre \"resolv.conf\" propi:"
      ],
      "metadata": {
        "id": "NEcM9G8EyDi2"
      }
    },
    {
      "cell_type": "code",
      "source": [
        "rm /etc/resolv.conf\n",
        "nano /etc/resolv.conf"
      ],
      "metadata": {
        "id": "-lzeb2vgxVMP"
      },
      "execution_count": null,
      "outputs": []
    },
    {
      "cell_type": "markdown",
      "source": [
        "Cal que hi poseu:"
      ],
      "metadata": {
        "id": "12O5mUa2ybW8"
      }
    },
    {
      "cell_type": "code",
      "source": [
        "nameserver 127.0.0.1"
      ],
      "metadata": {
        "id": "8D6vjqmSycsM"
      },
      "execution_count": null,
      "outputs": []
    },
    {
      "cell_type": "code",
      "source": [
        ""
      ],
      "metadata": {
        "id": "gsSjF8hKyimr"
      },
      "execution_count": null,
      "outputs": []
    }
  ]
}