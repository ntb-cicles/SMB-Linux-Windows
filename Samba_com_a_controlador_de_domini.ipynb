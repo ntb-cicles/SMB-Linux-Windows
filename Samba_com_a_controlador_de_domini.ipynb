{
  "nbformat": 4,
  "nbformat_minor": 0,
  "metadata": {
    "colab": {
      "name": "Samba com a controlador de domini.ipynb",
      "provenance": [],
      "collapsed_sections": [],
      "authorship_tag": "ABX9TyNSIlgUj1aYRRgHSdZ7HiEC",
      "include_colab_link": true
    },
    "kernelspec": {
      "name": "python3",
      "display_name": "Python 3"
    },
    "language_info": {
      "name": "python"
    }
  },
  "cells": [
    {
      "cell_type": "markdown",
      "metadata": {
        "id": "view-in-github",
        "colab_type": "text"
      },
      "source": [
        "<a href=\"https://colab.research.google.com/github/ntb-cicles/SMB-Linux-Windows/blob/main/Samba_com_a_controlador_de_domini.ipynb\" target=\"_parent\"><img src=\"https://colab.research.google.com/assets/colab-badge.svg\" alt=\"Open In Colab\"/></a>"
      ]
    },
    {
      "cell_type": "markdown",
      "source": [
        "# Grup de treball VS Domini"
      ],
      "metadata": {
        "id": "NNvvTgc7mb9j"
      }
    },
    {
      "cell_type": "markdown",
      "source": [
        "Un **WORKGROUP** (grup de treball) és un **conjunt de màquines connectades a una mateixa xarxa**. En un workgroup **cada màquina gestiona de forma local els seus usuaris i contrasenyes**.\n",
        "\n",
        "\\\n",
        "\n",
        "Un **DOMAIN** (domini) és també un **conjunt de màquines connectades a una mateixa xarxa**. Però en un domain, és **només una màquina, amb rol de servidor, qui gestiona els usuaris i contrasenyes de totes les màquines del domini de la xarxa**. \n",
        "\n",
        "\\\n",
        "\n",
        "Usualment els dominis s'utilitzen en xarxes amb un gran nombre d'equips, per exemple, en una empresa on hi han 60 ordinadors, és molt més fàcil gestionar tots els usuaris i contrasenyes dels 60 ordinadors des d'un servidor que pas haver d'anar un per un de forma local."
      ],
      "metadata": {
        "id": "ks3OQHxolExm"
      }
    },
    {
      "cell_type": "markdown",
      "source": [
        "# Samba com a controlador de domini"
      ],
      "metadata": {
        "id": "AIWNLkR6mg3A"
      }
    },
    {
      "cell_type": "markdown",
      "source": [
        "Feu una nova còpia de seguretat del vostre fitxer de configuració de SAMBA (smb.conf) ja que tornarem a canviar-lo."
      ],
      "metadata": {
        "id": "XQSACumotqVF"
      }
    },
    {
      "cell_type": "markdown",
      "source": [
        "Comanda \"hostnamectl\" per saber el nom de la màquina que utilitzarem com a servidor."
      ],
      "metadata": {
        "id": "IgwutP9Nk84R"
      }
    },
    {
      "cell_type": "code",
      "source": [
        "hostnamectl"
      ],
      "metadata": {
        "id": "vXfDjHUEk9GF"
      },
      "execution_count": null,
      "outputs": []
    },
    {
      "cell_type": "code",
      "source": [
        "# Exemple de resultat de la comanda \"hostnamectl\"\n",
        "nil@servnil:/etc$ hostnamectl\n",
        "\n",
        "        Static hostname: servnil\n",
        "        Icon name: computer-vm\n",
        "        Chassis: vm\n",
        "        ....."
      ],
      "metadata": {
        "id": "rTKXxKru40tM"
      },
      "execution_count": null,
      "outputs": []
    },
    {
      "cell_type": "code",
      "source": [
        "timedatectl"
      ],
      "metadata": {
        "id": "Rpx27mqqWs2b"
      },
      "execution_count": null,
      "outputs": []
    },
    {
      "cell_type": "markdown",
      "source": [
        "El ***hostname*** (en català, ***nom d'equip***) és un nom únic i relativament informal que es dóna a un dispositiu connectat a una xarxa"
      ],
      "metadata": {
        "id": "ZT0XrzIb5OUd"
      }
    },
    {
      "cell_type": "markdown",
      "source": [
        "Si no teniu el directori \"/etc/samba\" cal que instal·leu samba amb la comanda següent:"
      ],
      "metadata": {
        "id": "x9SaLp5aWg6s"
      }
    },
    {
      "cell_type": "code",
      "source": [
        "sudo apt-get update\n",
        "sudo apt-get install samba"
      ],
      "metadata": {
        "id": "Cfc37As_m-6h"
      },
      "execution_count": null,
      "outputs": []
    },
    {
      "cell_type": "markdown",
      "source": [
        "Kerberos es tracta d'un protocol que serveix per a autenticar dos dispositius que es connecten entre si. No significa que vagi a autoritzar-los, sinó autenticar-los. La seva funció és identificar cada usuari mitjançant xifratge."
      ],
      "metadata": {
        "id": "qIXjX4CenJY5"
      }
    },
    {
      "cell_type": "code",
      "source": [
        "sudo apt-get update\n",
        "sudo apt-get install krb5-config"
      ],
      "metadata": {
        "id": "hyI1JlF_nJjQ"
      },
      "execution_count": null,
      "outputs": []
    },
    {
      "cell_type": "markdown",
      "source": [
        "Kerberos us demana introduir 3 noms:\n",
        "\n",
        "*   Reino de Kerberos: **EXEMPLE.COM**  # Tot en majúscules\n",
        "*   Servidors de Kerberos que utilitzarem: **HOSTNAME.exemple.com**   # Tot en minúscules. Cal afegir el vostre hostname davant del nom del domini. \n",
        "*   Servidor administratiu de Kerberos que utilitzarem: **HOSTNAME.exemple.com**\n",
        "\n"
      ],
      "metadata": {
        "id": "AzRmjeYort-S"
      }
    },
    {
      "cell_type": "markdown",
      "source": [
        ""
      ],
      "metadata": {
        "id": "T_xJUa9p5BJ7"
      }
    },
    {
      "cell_type": "markdown",
      "source": [
        "Per exemple, si el meu **HOSTNAME** és \"**servnil**\":"
      ],
      "metadata": {
        "id": "BOMqfGxh5iYO"
      }
    },
    {
      "cell_type": "code",
      "source": [
        "Reino de Kerberos: DAM.COM\n",
        "Servidors de Kerberos que utilitzarem: **servnil.dam.com**\n",
        "Servidor administratiu de Kerberos que utilitzarem: **servnil.dam.com**"
      ],
      "metadata": {
        "id": "Ja1_TbDE5j53"
      },
      "execution_count": null,
      "outputs": []
    },
    {
      "cell_type": "markdown",
      "source": [
        "Si us oblideu del nom que heu posat, es troba en el fitxer de configuració de kerberos, a la ruta **/etc/krb5.conf**"
      ],
      "metadata": {
        "id": "KXcNx3Df09XY"
      }
    },
    {
      "cell_type": "markdown",
      "source": [
        "Necessitem winbind per unir manualment una instància de Linux amb un domini de Microsoft Active Directory"
      ],
      "metadata": {
        "id": "OU6V51t6nnaI"
      }
    },
    {
      "cell_type": "code",
      "source": [
        "sudo apt-get install winbind"
      ],
      "metadata": {
        "id": "7U1w-dKenj1G"
      },
      "execution_count": null,
      "outputs": []
    },
    {
      "cell_type": "markdown",
      "source": [
        "Winbind us indica que vol canviar el vostre fitxer de configuració de SAMBA (smb.conf) per un altre nou. Accepteu-ho."
      ],
      "metadata": {
        "id": "esNOuusXtdBo"
      }
    },
    {
      "cell_type": "markdown",
      "source": [
        "Si no el teniu instal·lat, també poseu el smbclient (el client de samba)"
      ],
      "metadata": {
        "id": "3z3fK3FfoYiN"
      }
    },
    {
      "cell_type": "code",
      "source": [
        "sudo apt-get install smbclient"
      ],
      "metadata": {
        "id": "kJSSBi1zodDY"
      },
      "execution_count": null,
      "outputs": []
    },
    {
      "cell_type": "markdown",
      "source": [
        "A mesura que la vostra màquina s'iniciï, haurà de conèixer l'assignació d'alguns noms d'amfitrió a adreces IP abans que es pugui fer referència al DNS. Aquesta assignació es manté al fitxer /etc/hosts. En absència d'un servidor de noms, qualsevol programa de xarxa del vostre sistema consulta aquest fitxer per determinar l'adreça IP que correspon a un nom d'amfitrió."
      ],
      "metadata": {
        "id": "Fx_FPPvOt3Df"
      }
    },
    {
      "cell_type": "code",
      "source": [
        "nano /etc/hosts"
      ],
      "metadata": {
        "id": "kZ_yi6AOt3LD"
      },
      "execution_count": null,
      "outputs": []
    },
    {
      "cell_type": "code",
      "source": [
        "IPAddress       Hostname    \t\t   Alias\n",
        "127.0.0.1\t\t\t  localhost\t \t       \n",
        "127.0.1.1\t\t\t  servnil\n"
      ],
      "metadata": {
        "id": "WFl0trK5uKAr"
      },
      "execution_count": null,
      "outputs": []
    },
    {
      "cell_type": "markdown",
      "source": [
        "Heu d'afegir una nova línia en aquest fitxers /etc/hosts, després de la resta de línies, amb la **IP de la vostra màquina** servidor, el **nom del servidor de Kerberos**, i un **alias que li vulgueu donar**. Per exemple:"
      ],
      "metadata": {
        "id": "IhYwjm4xuIRt"
      }
    },
    {
      "cell_type": "code",
      "source": [
        "192.168.55.102\t\t  servnil.dam.com\t \t       servnil"
      ],
      "metadata": {
        "id": "S5vjmM96vVd0"
      },
      "execution_count": null,
      "outputs": []
    },
    {
      "cell_type": "markdown",
      "source": [
        "Feu còpia de seguretat de \"smb.conf\""
      ],
      "metadata": {
        "id": "hWE0vubFv9zz"
      }
    },
    {
      "cell_type": "code",
      "source": [
        "cd /etc/samba\n",
        "mv smb.conf smb.conf.backup"
      ],
      "metadata": {
        "id": "fCcMJwJ4wD4M"
      },
      "execution_count": null,
      "outputs": []
    },
    {
      "cell_type": "markdown",
      "source": [
        "Cal còpia de seguretat ja que farem una configuració de Samba, però no modificant directament el smb.conf, sinó utilitzant altres eines externes.\n",
        "\n",
        "Per a que les eines externes modifiquin el smb.conf, cal NO TENIR CAP FITXER SMB.CONF, per això fem còpia de seguretat\n",
        "\n",
        "\\\n",
        "\n",
        "Comencem configuració de samba amb comanda:"
      ],
      "metadata": {
        "id": "hPBaRL3ceUQe"
      }
    },
    {
      "cell_type": "code",
      "source": [
        "samba-tool domain provision"
      ],
      "metadata": {
        "id": "IRI_TrFfwQfG"
      },
      "execution_count": null,
      "outputs": []
    },
    {
      "cell_type": "markdown",
      "source": [
        "Deixar tots els valors per defecte, ja que ha detectat els valors del Realm que heu posat anteriorment. Si no us surt **[NOMREALM.COM]** desprès de **Realm**, proveu de donar enter sense escriure res i us dóna error, vol dir que heu configurat malament el fitxer de hosts.\n",
        "\n",
        "*   Realm[EXAMPLE.COM]: \n",
        "*   Domain[EXAMPLE]\n",
        "*   Server role[dc]: L'opció per defecte és un domain controller \"dc\", així que enter i endavant\n",
        "*   DNS backend (SAMBA_INTERNAL, BIND9_FLATFILE, BIND9_DLZ, NONE [SAMBA_INTERNAL]: Agafar el DNS intern de SAMBA, el que està per defecte, així que enter i endavant\n",
        "*   DNS forwarder IP address (write 'none' to disable forwarding) [127.0.0.53]:  **8.8.8.8**  # En aquest cas sí poseu un DNS real, per exemple, el servidor de DNS de Google, que és 8.8.8.8\n",
        "*  Password: Per exemple, **123456A!** \n"
      ],
      "metadata": {
        "id": "qH-GTpN5exG8"
      }
    },
    {
      "cell_type": "markdown",
      "source": [
        "Deixeu tots els camps per defecte. Us hauria de sortir el nom de domini que heu posat anteriorment, DC (voleu que el servidor funcioni com a controlador de domini), i els DNS per defecte.\n",
        "\n",
        "\\\n",
        "\n",
        "Només cal emplenar l'última opció, on cal posar una contrasenya per l'administrador del domini. Recordeu-la per més endavant!"
      ],
      "metadata": {
        "id": "o8sPpf45wab0"
      }
    },
    {
      "cell_type": "markdown",
      "source": [
        "Desprès del pas anterior, hem de moure la configuració de kerberos (krb5.conf) al directori **/etc/** :"
      ],
      "metadata": {
        "id": "z8u32Dmdw7t_"
      }
    },
    {
      "cell_type": "code",
      "source": [
        "# ls -l /etc/ | grep krb  \n",
        "cp /var/lib/samba/private/krb5.conf /etc/"
      ],
      "metadata": {
        "id": "I0WOkHC2w3R_"
      },
      "execution_count": null,
      "outputs": []
    },
    {
      "cell_type": "code",
      "source": [
        ""
      ],
      "metadata": {
        "id": "435Be6CamBeI"
      },
      "execution_count": null,
      "outputs": []
    },
    {
      "cell_type": "markdown",
      "source": [
        "Cal desactivar els 4 serveis següents abans de continuar (serveis estàndard de SAMBA):"
      ],
      "metadata": {
        "id": "SSR_sQXFx0rw"
      }
    },
    {
      "cell_type": "code",
      "source": [
        "systemctl disable --now smbd \n",
        "systemctl disable --now nmbd \n",
        "systemctl disable --now winbind \n",
        "systemctl disable --now systemd-resolved.service "
      ],
      "metadata": {
        "id": "I1EDOcPmxL7S"
      },
      "execution_count": null,
      "outputs": []
    },
    {
      "cell_type": "code",
      "source": [
        "systemctl unmask samba-ad-dc.service # Servei del directori actiu. Si un servei està \"masked\" s'evita que s'executi de forma accidental."
      ],
      "metadata": {
        "id": "tXMNURL5mGRy"
      },
      "execution_count": null,
      "outputs": []
    },
    {
      "cell_type": "code",
      "source": [
        "systemctl enable --now samba-ad-dc.service"
      ],
      "metadata": {
        "id": "nUDM__pLxRDx"
      },
      "execution_count": null,
      "outputs": []
    },
    {
      "cell_type": "markdown",
      "source": [
        "Comprovar que estem simulant un Active Directory de Windows amb el samba:"
      ],
      "metadata": {
        "id": "TDgySVwVx35B"
      }
    },
    {
      "cell_type": "code",
      "source": [
        "samba-tool domain level show"
      ],
      "metadata": {
        "id": "2nQ9NprPxTBF"
      },
      "execution_count": null,
      "outputs": []
    },
    {
      "cell_type": "markdown",
      "source": [
        "Cal esborrar el link simbòlic següent, ja que hem de crear el nostre \"**resolv.conf**\" propi. Podeu fer una còpia de seguretat del fitxer original si voleu. "
      ],
      "metadata": {
        "id": "NEcM9G8EyDi2"
      }
    },
    {
      "cell_type": "code",
      "source": [
        "rm /etc/resolv.conf\n",
        "nano /etc/resolv.conf"
      ],
      "metadata": {
        "id": "-lzeb2vgxVMP"
      },
      "execution_count": null,
      "outputs": []
    },
    {
      "cell_type": "markdown",
      "source": [
        "El fitxer \"**resolv.conf**\" conté els servidors DNS que volem utilitzar. Per aquesta pràctica, cal que hi poseu:"
      ],
      "metadata": {
        "id": "12O5mUa2ybW8"
      }
    },
    {
      "cell_type": "code",
      "source": [
        "nameserver DNS_SERVER_IP"
      ],
      "metadata": {
        "id": "8D6vjqmSycsM"
      },
      "execution_count": null,
      "outputs": []
    },
    {
      "cell_type": "markdown",
      "source": [
        "Per exemple:"
      ],
      "metadata": {
        "id": "eNJhp8jaSD7u"
      }
    },
    {
      "cell_type": "code",
      "source": [
        "nameserver 192.168.55.102"
      ],
      "metadata": {
        "id": "inxZDKK9SFGx"
      },
      "execution_count": null,
      "outputs": []
    },
    {
      "cell_type": "markdown",
      "source": [
        "D'aquesta manera podrem trobar els serveis de Directory Actiu del servidor a través del DNS."
      ],
      "metadata": {
        "id": "SF2oKNG287uc"
      }
    },
    {
      "cell_type": "markdown",
      "source": [
        "# Solució a diversos problemes (saltar aquesta secció si tot funciona OK)"
      ],
      "metadata": {
        "id": "IMqqdS0C2hKo"
      }
    },
    {
      "cell_type": "markdown",
      "source": [
        "## Re-configurar Kerberos"
      ],
      "metadata": {
        "id": "s6lNEjRJ2o8H"
      }
    },
    {
      "cell_type": "markdown",
      "source": [
        "Si us heu equivocat amb el nom del Realm (Reino) podeu tornar a modificar la configuració de Kerberos."
      ],
      "metadata": {
        "id": "iQkVD3p-2wHC"
      }
    },
    {
      "cell_type": "markdown",
      "source": [
        "Les preguntes que fa el Kerberos durant la instal·lació s'utilitzen per configurar els fitxers **/etc/krb5.conf** i **/etc/krb5kdc/kdc.conf**. \n",
        "\n",
        "\\\n",
        "\n",
        "*   **/etc/krb5.conf** és utilitzat per les biblioteques kerberos 5\n",
        "*   **/etc/krb5kdc/kdc.conf** configura el KDC. Si necessiteu ajustar els ajustaments del Centre de distribució de claus (KDC), editeu el fitxer i reinicieu el daemon krb5-kdc.\n",
        "\n",
        "\\\n",
        "\n",
        "Si cal reconfigurar Kerberos des de zero, potser per canviar el nom del regne, pots fer-ho escrivint la comanda:"
      ],
      "metadata": {
        "id": "RCCKMrIl3LjH"
      }
    },
    {
      "cell_type": "code",
      "source": [
        "sudo dpkg-reconfigure krb5-config"
      ],
      "metadata": {
        "id": "XVc43vED3bJr"
      },
      "execution_count": null,
      "outputs": []
    },
    {
      "cell_type": "markdown",
      "source": [
        "## Saber quins paquets (programes) tinc instal·lats en Ubuntu Server"
      ],
      "metadata": {
        "id": "tzHNggen4stg"
      }
    },
    {
      "cell_type": "markdown",
      "source": [
        "Simplement utilitzeu la comanda \"**apt list**\", la qual imprimeix tots els paquets instal·lats, seguit de \"**| grep NOM_PROGRAMA**\" per filtrar. Per exemple:"
      ],
      "metadata": {
        "id": "LBwSW5Ch4y-_"
      }
    },
    {
      "cell_type": "code",
      "source": [
        "apt list | grep krb   # imprimeix tots els mòduls instal·lats que continguin el text \"krb\""
      ],
      "metadata": {
        "id": "1nuibDzj5CzP"
      },
      "execution_count": null,
      "outputs": []
    },
    {
      "cell_type": "markdown",
      "source": [
        "## Posar una IP estàtica al Ubuntu Server"
      ],
      "metadata": {
        "id": "-RQPhGUcvwv_"
      }
    },
    {
      "cell_type": "markdown",
      "source": [
        "Per evitar que el DHCP ens canvii la IP del servidor i deixi de funcionar la connexió:"
      ],
      "metadata": {
        "id": "rTF839v4vz-f"
      }
    },
    {
      "cell_type": "markdown",
      "source": [
        "Agafeu una IP que no s'estigui utilitzant i que estigui dins de la vostra xarxa, i editeu el fitxer de netplan se la següent forma:"
      ],
      "metadata": {
        "id": "Lnd7OEsQv8yQ"
      }
    },
    {
      "cell_type": "code",
      "source": [
        "/etc/netplan/00-installer-config.yaml"
      ],
      "metadata": {
        "id": "AitE_rWJx7yv"
      },
      "execution_count": null,
      "outputs": []
    },
    {
      "cell_type": "markdown",
      "source": [
        "Per defecte teniu:"
      ],
      "metadata": {
        "id": "17k-oKwByFs7"
      }
    },
    {
      "cell_type": "code",
      "source": [
        "network:\n",
        "  ethernets:\n",
        "    enp0s3:\n",
        "      dhcp4: true\n",
        "  version: 2"
      ],
      "metadata": {
        "id": "fJkHhDvZyDAg"
      },
      "execution_count": null,
      "outputs": []
    },
    {
      "cell_type": "markdown",
      "source": [
        "Per exemple, si teniu una xarxa \"**192.168.50.0/24**\", de la qual al porta d'enllaç (gateway) és \"**192.168.50.1**\", i escolliu una ip com \"**192.168.50.144**\":"
      ],
      "metadata": {
        "id": "yQutRT6IyiUr"
      }
    },
    {
      "cell_type": "markdown",
      "source": [
        "Cal que ho modifiqueu de la forma següent:"
      ],
      "metadata": {
        "id": "_uv7qteWyfBb"
      }
    },
    {
      "cell_type": "code",
      "source": [
        "network:\n",
        "  ethernets:\n",
        "    enp0s3:\n",
        "      dhcp4: no\n",
        "      addresses: [192.168.50.144/24]\n",
        "      nameservers:\n",
        "         addresses: [8.8.8.8]\n",
        "  version: 2"
      ],
      "metadata": {
        "id": "PFuWyhdQv0PN"
      },
      "execution_count": null,
      "outputs": []
    },
    {
      "cell_type": "markdown",
      "source": [
        "Quan editeu fitxers Yaml, assegureu-vos que seguiu els estàndards de sagnat de codi YAML. Si la sintaxi no és correcta, els canvis no s'aplicaran."
      ],
      "metadata": {
        "id": "ZwCxDACxzHzf"
      }
    },
    {
      "cell_type": "markdown",
      "source": [
        "Una vegada fet, deseu el fitxer i apliqueu els canvis executant la següent comanda:"
      ],
      "metadata": {
        "id": "hMvL6R93zIOw"
      }
    },
    {
      "cell_type": "code",
      "source": [
        "sudo netplan apply"
      ],
      "metadata": {
        "id": "AGlgWISPzNgs"
      },
      "execution_count": null,
      "outputs": []
    },
    {
      "cell_type": "markdown",
      "source": [
        "## Habilitar connexió al nostre DNS al firewall des de Windows"
      ],
      "metadata": {
        "id": "3w6yiO8WWEtR"
      }
    },
    {
      "cell_type": "markdown",
      "source": [
        "Activar programa \"Cliente telnet\" des de \"Activar o desactivar características de Windows\""
      ],
      "metadata": {
        "id": "cglUZFMhWMWm"
      }
    },
    {
      "cell_type": "code",
      "source": [
        "telnet IP_SERVIDOR 53"
      ],
      "metadata": {
        "id": "eDTsrUfZWau8"
      },
      "execution_count": null,
      "outputs": []
    },
    {
      "cell_type": "markdown",
      "source": [
        "Si es connecta amb telnet, hauríeu de veure un cursor parpellejant a la finestra del cmd. Si no, dirà \"la connexió ha fallat\".\n",
        "\n",
        "Si la prova telnet al port 53 es connecta, llavors nslookup hauria de funcionar. Executeu-lo la comanda:"
      ],
      "metadata": {
        "id": "thEvxMpzl4mf"
      }
    },
    {
      "cell_type": "code",
      "source": [
        "nslookup - IP_SERVIDOR"
      ],
      "metadata": {
        "id": "dSHfZQgvmF5V"
      },
      "execution_count": null,
      "outputs": []
    },
    {
      "cell_type": "markdown",
      "source": [
        "# Client Windows"
      ],
      "metadata": {
        "id": "UMfKcSny-dpd"
      }
    },
    {
      "cell_type": "markdown",
      "source": [
        "## PAS 1: Tenir connexió al Servidor de Directori Actiu des del client Windows"
      ],
      "metadata": {
        "id": "dqFS5CEoBo4n"
      }
    },
    {
      "cell_type": "markdown",
      "source": [
        "Dins de les propietats de Windows, canviar les propietats de **l'adaptador en xarxa que estigui connectat a la mateixa xarxa que el vostre servidor de Directori Actiu** (és a dir, la xarxa que us permet connectar-vos entre màquines virtuals). \n",
        "\n",
        "\\\n",
        "\n",
        "En l'apartat IPv4 de la configuració de l'adaptador, cal posar com a DNS la IP de la màquina del Ubuntu Server. Trobareu aquest apartat en \"**Configuración de red avanzada / Cambiar opciones del adaptador** si feu anar una nova versió de Windows."
      ],
      "metadata": {
        "id": "LNOEHyrY-gYf"
      }
    },
    {
      "cell_type": "markdown",
      "source": [
        "El DNS preferit ha de ser el nostre servidor de Directori Actiu, és a dir, poseu la IP DEL SERVIDOR. Exemple:"
      ],
      "metadata": {
        "id": "oX6ZHAh0BIIl"
      }
    },
    {
      "cell_type": "code",
      "source": [
        "DNS Preferido: 192.168.55.102"
      ],
      "metadata": {
        "id": "OM_P9Ei-AdOK"
      },
      "execution_count": null,
      "outputs": []
    },
    {
      "cell_type": "markdown",
      "source": [
        "És molt recomanable seleccionar l'opció \"**comprovar configuración al salir**\", ja que d'aquesta manera es comprovarà si el servidor de DNS funciona correctament o no. "
      ],
      "metadata": {
        "id": "abuVb45hSKoj"
      }
    },
    {
      "cell_type": "markdown",
      "source": [
        "## PAS 2: Unir el client al Domini"
      ],
      "metadata": {
        "id": "WZmfjTIoBy13"
      }
    },
    {
      "cell_type": "markdown",
      "source": [
        "Aneu a **Configuración / Sistema / Acerca de**. Llavors, a la part dreta, premeu la opció **Cambiar el nombre de este equipo (avanzado)**."
      ],
      "metadata": {
        "id": "Q_vfr3MTCBrU"
      }
    },
    {
      "cell_type": "markdown",
      "source": [
        "En la finestra veureu que hi ha un botó que serveix per canviar \"**El nombre de este equipo o el dominio o grupo de trabajo**\"."
      ],
      "metadata": {
        "id": "_wmte-E4OJkU"
      }
    },
    {
      "cell_type": "markdown",
      "source": [
        "Obreu la finestra, i a nosatres ens interessa canviar el **Domini**. El Grup de Treball (Workgroup) el podeu deixar igual. "
      ],
      "metadata": {
        "id": "YvxQtRS9OeVr"
      }
    },
    {
      "cell_type": "markdown",
      "source": [
        "### Entenent perquè cal modificar el DNS preferit i altres configuracions anteriors"
      ],
      "metadata": {
        "id": "aADOu64zP-eD"
      }
    },
    {
      "cell_type": "markdown",
      "source": [
        "Ara us podeu donar compte de que formeu part, per exemple, del domini \"**dam.com**\". "
      ],
      "metadata": {
        "id": "_cMqMCEpPGW2"
      }
    },
    {
      "cell_type": "markdown",
      "source": [
        "Necessitem que el DNS preferit sigui el que tenim a la nostra màquina virtual de Ubuntu Server, ja que el domini \"**dam.com**\" podria existir realment, i per tant si el nostre servidor DNS és un d'extern, tindriem la IP del servidor que guarda la pàgina web \"**dam.com**\" en comptes del nostre controlador de Dominis!"
      ],
      "metadata": {
        "id": "GbjpEUVnQHnF"
      }
    },
    {
      "cell_type": "markdown",
      "source": [
        "# Servidor Ubuntu: creació d'usuaris pel nostre domini"
      ],
      "metadata": {
        "id": "WqAYpcZ1Do6Y"
      }
    },
    {
      "cell_type": "markdown",
      "source": [
        "Amb l'ajuda de la interfície **samba-tool** podeu gestionar directament els usuaris i grups de domini, la política de grups de domini, els llocs de domini, els serveis DNS, la replicació de domini i altres funcions de domini crítiques."
      ],
      "metadata": {
        "id": "JhuyejHCDufd"
      }
    },
    {
      "cell_type": "markdown",
      "source": [
        "Nosatres primer provarem algunes funcions més bàsiques:"
      ],
      "metadata": {
        "id": "VDnDXOjmEpwN"
      }
    },
    {
      "cell_type": "markdown",
      "source": [
        "## Creació d'usuaris"
      ],
      "metadata": {
        "id": "1syLcOrvGDE8"
      }
    },
    {
      "cell_type": "markdown",
      "source": [
        "Amb aquesta comanda podeu crear un usuari. La mateixa comanda us demanarà que poseu una contrasenya per l'usuari:"
      ],
      "metadata": {
        "id": "RRP8QcrlGGfp"
      }
    },
    {
      "cell_type": "code",
      "source": [
        "samba-tool user create NOM_USUARI"
      ],
      "metadata": {
        "id": "Z6ktD7nDDwY2"
      },
      "execution_count": null,
      "outputs": []
    },
    {
      "cell_type": "code",
      "source": [
        "samba-tool user add NOM_USUARI # comanda alternativa"
      ],
      "metadata": {
        "id": "PEfLE4yiGZBd"
      },
      "execution_count": null,
      "outputs": []
    },
    {
      "cell_type": "markdown",
      "source": [
        "## Llistar tots els usuaris del Domini"
      ],
      "metadata": {
        "id": "375pfzMdGZfQ"
      }
    },
    {
      "cell_type": "code",
      "source": [
        "samba-tool user list"
      ],
      "metadata": {
        "id": "oc9AF4FOGb7k"
      },
      "execution_count": null,
      "outputs": []
    },
    {
      "cell_type": "markdown",
      "source": [
        "## Esborrar usuari del domini"
      ],
      "metadata": {
        "id": "9mBqvIQYGgax"
      }
    },
    {
      "cell_type": "code",
      "source": [
        "samba-tool user delete NOM_USUARI"
      ],
      "metadata": {
        "id": "9etoLKefGiqW"
      },
      "execution_count": null,
      "outputs": []
    },
    {
      "cell_type": "markdown",
      "source": [
        "## Canviar contrasenya d'un usuari del Domini"
      ],
      "metadata": {
        "id": "bBCKw4D3GjLD"
      }
    },
    {
      "cell_type": "code",
      "source": [
        "samba-tool user setpassword NOM_USUARI"
      ],
      "metadata": {
        "id": "lyTXxVuyGpT_"
      },
      "execution_count": null,
      "outputs": []
    },
    {
      "cell_type": "markdown",
      "source": [
        "## Habilitar o Deshabilitar un usuari del Domini"
      ],
      "metadata": {
        "id": "2IlE8l4PGpqu"
      }
    },
    {
      "cell_type": "code",
      "source": [
        "samba-tool user disable NOM_USUARI\n",
        "samba-tool user enable NOM_USUARI"
      ],
      "metadata": {
        "id": "BD3LEsGhGtUr"
      },
      "execution_count": null,
      "outputs": []
    },
    {
      "cell_type": "markdown",
      "source": [
        "# Grups d'usuaris en un Domini"
      ],
      "metadata": {
        "id": "4TWqeECcGydF"
      }
    }
  ]
}