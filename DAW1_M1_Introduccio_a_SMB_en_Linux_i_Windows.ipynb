{
  "cells": [
    {
      "cell_type": "markdown",
      "metadata": {
        "id": "VKeI-QSx7J_w"
      },
      "source": [
        "# Instal·lar SAMBA"
      ]
    },
    {
      "cell_type": "code",
      "execution_count": null,
      "metadata": {
        "id": "XcUxBeU07E9c"
      },
      "outputs": [],
      "source": [
        "sudo apt update\n",
        "sudo apt install samba"
      ]
    },
    {
      "cell_type": "markdown",
      "metadata": {
        "id": "URL0QL3h7P9Z"
      },
      "source": [
        "Parar el daemon de \"Samba\" \\\n",
        "Un daemon és un procés que s'executa en segon pla. \\\n",
        "\\\n",
        "Comprovem que el procès de Samba (smbd) està executant-se:"
      ]
    },
    {
      "cell_type": "code",
      "execution_count": null,
      "metadata": {
        "id": "8H8SozL07QIh"
      },
      "outputs": [],
      "source": [
        "sudo systemctl status smbd"
      ]
    },
    {
      "cell_type": "markdown",
      "metadata": {
        "id": "ZG1xEwS37QPz"
      },
      "source": [
        "Si està actiu (executant-se), l'aturem"
      ]
    },
    {
      "cell_type": "code",
      "execution_count": null,
      "metadata": {
        "id": "-Fzuswhq7QX6"
      },
      "outputs": [],
      "source": [
        "sudo systemctl stop smbd"
      ]
    },
    {
      "cell_type": "markdown",
      "metadata": {
        "id": "nzNQo-m_7Qd_"
      },
      "source": [
        "# Modificant la configuració de SAMBA\n",
        "\n",
        "Algunes vegades no farà falta modificar aquest fitxer ja que la configuració per defecte ja ens funcionaria, però \n",
        "\n",
        "La ruta (absoluta) fins al fitxer que volem modificar és la següent:"
      ]
    },
    {
      "cell_type": "code",
      "execution_count": null,
      "metadata": {
        "id": "M5vyQAgd7Qls"
      },
      "outputs": [],
      "source": [
        "vi /etc/samba/smb.conf # editor de text VIM\n",
        "nano /etc/samba/smb.conf # editor de text NANO"
      ]
    },
    {
      "cell_type": "markdown",
      "metadata": {
        "id": "PdNeulfS7Qsi"
      },
      "source": [
        "Fem una còpia de seguretat (backup) del fitxer de configuració abans de modificar-lo.\n",
        "\n",
        "Per fer la còpia simplement podeu fer: \n",
        "\n"
      ]
    },
    {
      "cell_type": "code",
      "execution_count": null,
      "metadata": {
        "id": "3SbD8XLe7Q1E"
      },
      "outputs": [],
      "source": [
        "cp  /etc/samba/smb.conf  /etc/samba/smb.conf.backup\n",
        "nano /etc/samba/smb.conf\n",
        "\n",
        "# o per modificar-lo des de zero:\n",
        "\n",
        "cp  /etc/samba/smb.conf  /etc/samba/smb.conf.backup\n",
        "rm /etc/samba/smb.conf\n",
        "nano /etc/samba/smb.conf"
      ]
    },
    {
      "cell_type": "markdown",
      "metadata": {
        "id": "LsPfg1hJ1ElK"
      },
      "source": [
        "# Com utilitzar NANO (bàsic)\n",
        "\n",
        "Guardar contingut del fitxer:\n",
        "\n",
        "`CTRL + \"O\" + ENTER `    \n",
        "\n",
        "\\\n",
        "\n",
        "Copiar text:\n",
        "\n",
        "- Selecciona amb `CTRL`\n",
        "\n",
        "- Retalla amb `CTRL + \"K\"`\n",
        "\n",
        "- Enganxa amb `CTRL + \"U\"` més d'una vegada\n",
        "\n",
        "\\\n",
        "\n",
        "Desfer els canvis (Undo):\n",
        "\n",
        "`ALT + \"U\"` o `ESC + \"U\"`\n",
        "\n",
        "\\\n",
        "\n",
        "Desfer els canvis (redo):\n",
        "\n",
        "`ALT + \"E\"` o `ESC + \"E\"`\n",
        "\n",
        "\\\n",
        "\n",
        "Tancar l'editor NANO:\n",
        "\n",
        "`CTRL + \"X\"`"
      ]
    },
    {
      "cell_type": "markdown",
      "metadata": {
        "id": "JC5d8mk27Q7S"
      },
      "source": [
        "# Sitaxi del fitxer smb.conf\n",
        "\n",
        "## Configuració global (només en tenim una!) de SAMBA\n",
        "\n",
        "[**global**] -> `Configuracions que apliquen a tota la configuració de SAMBA`\n",
        "\n",
        "\\\n",
        "\n",
        "server string = **El meu server de Fitxers** `# Nom del servidor.`\n",
        "\n",
        "\\\n",
        "\n",
        "workgroup = **DAW1** `# Nom del Grup de treball.`\n",
        "\n",
        "\\\n",
        "\n",
        "security = **user** `# Cada usuari tindrà la seva pròpia base de dades d’usuaris (noms d’usuari i contrasenyes locals), no tenim cap base centralitzada. Per tant, estem utilitzant un model P2P.`\n",
        "\n",
        "\\\n",
        "\n",
        "map to guest = **Bad User** `# No fa falta un compte d'usuari per realitzar la connexió. És a dir, completament obert a tothom. Si estàas utilitzant un compte no vàlid/bloquejat/guest et deixaria entrar igual.`\n",
        "\n",
        "\\\n",
        "\n",
        "name resolve order = **bcast host** `# L'ordre amb el qual comprovarà el nom dels hosts (equips de la xarxa). Primer broadcast. No fa falta entendre aquest concepte de moment.`\n",
        "\n",
        "\n"
      ]
    },
    {
      "cell_type": "code",
      "execution_count": null,
      "metadata": {
        "id": "VPvhtLod7RCM"
      },
      "outputs": [],
      "source": [
        "[global]\n",
        "server string = El meu servidor de fitxers\n",
        "workgroup = DAW1\n",
        "security = user\n",
        "map to guest = Bad User\n",
        "name resolve order = bcast host\n"
      ]
    },
    {
      "cell_type": "markdown",
      "metadata": {
        "id": "be_p1c_e7RIy"
      },
      "source": [
        "## Configuracions específiques (em podem tenir més d'una) de SAMBA\n"
      ]
    },
    {
      "cell_type": "markdown",
      "metadata": {
        "id": "QYabsEDimBve"
      },
      "source": [
        "Carpeta compartida sense restriccions"
      ]
    },
    {
      "cell_type": "code",
      "execution_count": null,
      "metadata": {
        "id": "30XmCUdS7RPF"
      },
      "outputs": [],
      "source": [
        "[Fitxers oberts]\n",
        "path = /fitxers_samba/provaoberts\n",
        "force user = smbusuari\n",
        "force group = smbgrup\n",
        "\n",
        "# Definir els permisos en Linux, ja que el format de permisos en Windows no és tan específic!\n",
        "create mask = 0664 # màscara de permisos que tindràn els fitxers en aquest directori\n",
        "force create mode = 0664 \n",
        "directory mask = 0775 # màscara de permisos que tindràn els directoris en aquest directori\n",
        "force directory mode = 0775\n",
        "public = yes # accesible per tothom\n",
        "writable = yes # podem escriure en el directori\n"
      ]
    },
    {
      "cell_type": "code",
      "execution_count": null,
      "metadata": {
        "id": "8RfYv0qf8uVk"
      },
      "outputs": [],
      "source": [
        "sudo mkdir -p /fitxers_samba/provaoberts   # Paràmetre -p serveix per crear una carpeta i subdirectoris en una mateixa comanda"
      ]
    },
    {
      "cell_type": "code",
      "execution_count": null,
      "metadata": {
        "id": "NOJXA9lhkXC2"
      },
      "outputs": [],
      "source": [
        "ls -l /fitxers_samba"
      ]
    },
    {
      "cell_type": "markdown",
      "metadata": {
        "id": "O28ye6aqkeXB"
      },
      "source": [
        "Ara caldria crear el grup \"smbgrup\" i l'usuari \"smbusuari\":"
      ]
    },
    {
      "cell_type": "code",
      "execution_count": null,
      "metadata": {
        "id": "5X9L7QdXkl-u"
      },
      "outputs": [],
      "source": [
        "sudo groupadd --system smbgrup   # El paràmetre \"--system\" significa que serà un grup del sistema en comptes d'un grup normal. L'única diferència és que un grup del sistema té un GID més baix i normalment s'utilitzen per fer manteniment del sistema o automatitzar tasques de còpies de seguretat\n",
        "sudo useradd --system --group smbgrup smbusuari   # El paràmetre \"--system\" significa que serà un grup del sistema en comptes d'un grup normal. L'única diferència és que un usuari del sistema té un UID més baix i normalment s'utilitzen per fer manteniment del sistema o automatitzar tasques de còpies de seguretat. \n",
        "                                          # Normalment, un usuari del sistema no se li fa login ja que ha de treballar sol en segon plà"
      ]
    },
    {
      "cell_type": "markdown",
      "metadata": {
        "id": "YLvwO7FC2uOw"
      },
      "source": [
        "La carpeta compartida ha de ser propietat del usuari i grup que hem creat"
      ]
    },
    {
      "cell_type": "code",
      "execution_count": null,
      "metadata": {
        "id": "gOVQOWZh1hUB"
      },
      "outputs": [],
      "source": [
        "sudo chown -R smbusuari:smbgrup /fitxers_samba\n",
        "sudo chmod -R g+w /fitxers_samba"
      ]
    },
    {
      "cell_type": "code",
      "execution_count": null,
      "metadata": {
        "id": "VqhohseR2_ha"
      },
      "outputs": [],
      "source": [
        "sudo systemctl status smbd\n",
        "sudo systemctl start smbd\n",
        "\n",
        "sudo systemctl restart smbd # si us heu oblidat de pararlo, en comptes de start cal fer un re-start"
      ]
    },
    {
      "cell_type": "markdown",
      "metadata": {
        "id": "JRw8SJtrvxr5"
      },
      "source": [
        "Si heu congelat la màquina, us diu que el servei està actiu però no funciona, feu també un **restart**"
      ]
    },
    {
      "cell_type": "markdown",
      "metadata": {
        "id": "d1Sz_bAVpf45"
      },
      "source": [
        "# SAMBA (SMB) en Windows"
      ]
    },
    {
      "cell_type": "markdown",
      "metadata": {
        "id": "7pmiNUA6ppAB"
      },
      "source": [
        "## Per a que funcioni SMB en Windows, cal:\n",
        "\n",
        "\n",
        "\n",
        "\n",
        "\n"
      ]
    },
    {
      "cell_type": "markdown",
      "metadata": {
        "id": "nx8-bbOLpz7H"
      },
      "source": [
        "**1)** Activar SMB des de \"Activar o desactivar caracteristicas de Windows\"."
      ]
    },
    {
      "cell_type": "markdown",
      "metadata": {
        "id": "w_j-6OIYptYj"
      },
      "source": [
        "**2)** Activar l'ús compartit de fitxers i impresores + activar la detecció de xarxes.\n",
        "\n",
        " \n",
        "\n",
        "1.   Botó dret a \"Abrir configuración de red e Internet\"\n",
        "2.   Baixeu a configuración de red avançada, i premeu \"Centro de redes y recursos coompartidos\".\n",
        "3.   Ara haurieu de tenir una finestra del panel de control. En les opcions de la part esquerra, premeu \"Cambiar configuración de uso compartido avanzado\".\n",
        "\n",
        "I ara ja heu arribat a la finestra que ens interessa. Cal **activar les dues opcions del perfil actual (privat)**.\n",
        "\n",
        "\\"
      ]
    },
    {
      "cell_type": "markdown",
      "metadata": {
        "id": "BfZ0CBbSqFkJ"
      },
      "source": [
        "## Una vegada fet el pas anterior, ja us podeu connectar a la carpeta compartida (al servidor Linux)"
      ]
    },
    {
      "cell_type": "markdown",
      "metadata": {
        "id": "wSyMSj7cqobF"
      },
      "source": [
        "Podeu accedir a la carpeta compartida creant un accès directe i posan-li l'adreça a la carpeta compartida.\n"
      ]
    },
    {
      "cell_type": "markdown",
      "metadata": {
        "id": "tYIlGLgEq6hP"
      },
      "source": [
        "El format de l'adreça a la carpeta compartida és:\n",
        "\n",
        "**\\\\IP_SERVIDOR\\NOM_CARPETA_COMPARTIDA**"
      ]
    },
    {
      "cell_type": "code",
      "execution_count": null,
      "metadata": {
        "id": "l4hjg7hWpk9N"
      },
      "outputs": [],
      "source": [
        "# Si:\n",
        "\n",
        "IP_SERVIDOR = 192.168.6.129\n",
        "NOM_CARPETA_COMPARTIDA = Fitxers oberts"
      ]
    },
    {
      "cell_type": "code",
      "execution_count": null,
      "metadata": {
        "id": "4KoTypeUrDXb"
      },
      "outputs": [],
      "source": [
        "# Llavors l'adreça seria:\n",
        "\n",
        "\\\\192.168.6.129\\Fitxers oberts\n",
        "\n",
        "# Si no sabeu segur el nom de la carpeta, simplement poseu l'adreça al servidor:\n",
        "\n",
        "\\\\192.168.6.129\\"
      ]
    },
    {
      "cell_type": "markdown",
      "metadata": {
        "id": "ybTz7GX41Iqx"
      },
      "source": [
        "# SAMBA en Manjaro"
      ]
    },
    {
      "cell_type": "markdown",
      "metadata": {
        "id": "ZEDG3H8U1Nb2"
      },
      "source": [
        "Abans d'accedir a SAMBA cal que tingueu instal·lat el client de SAMBA, és a dir, **smbclient**.\n",
        "\n",
        "Si el teniu, igual que heu fet en Windows, heu de posar l'adreça a la carpeta compartida.\n",
        "\n",
        "En Manjaro (i també en altres Linux) el format de l'adreça és:\n",
        "\n",
        "**smb://IP_SERVIDOR/NOM_CARPETA_COMPARTIDA**"
      ]
    },
    {
      "cell_type": "code",
      "execution_count": null,
      "metadata": {
        "id": "sL1CYcu91YY3"
      },
      "outputs": [],
      "source": [
        "# Si:\n",
        "\n",
        "IP_SERVIDOR = 192.168.6.129\n",
        "NOM_CARPETA_COMPARTIDA = Fitxers oberts"
      ]
    },
    {
      "cell_type": "code",
      "execution_count": null,
      "metadata": {
        "id": "7AeIzPOX3fDb"
      },
      "outputs": [],
      "source": [
        "# Llavors l'adreça seria:\n",
        "\n",
        "smb://192.168.6.129/Fitxers oberts\n",
        "\n",
        "# Si no sabeu segur el nom de la carpeta, simplement poseu l'adreça al servidor:\n",
        "\n",
        "smb://192.168.6.129"
      ]
    },
    {
      "cell_type": "markdown",
      "metadata": {
        "id": "g-WSyowKLIVv"
      },
      "source": [
        "# PING"
      ]
    },
    {
      "cell_type": "markdown",
      "metadata": {
        "id": "6YUAAf5zLbfo"
      },
      "source": [
        "Per defecte, VirtualBox dóna la mateixa adreça IP per defecte a tots els dispositius que es connecten per NAT. Això fa que no et puguis comunicar entre màquines virtuals.\n",
        "\n",
        "\n",
        "Per connectar-vos correctament entre màquines virtuals, cal crear una xarxa NAT separada.\n",
        "\n"
      ]
    }
  ],
  "metadata": {
    "colab": {
      "collapsed_sections": [],
      "name": "DAM1 M1 - Introduccio a SMB en Linux i Windows.ipynb",
      "provenance": [],
      "toc_visible": true
    },
    "kernelspec": {
      "display_name": "Python 3",
      "name": "python3"
    },
    "language_info": {
      "name": "python"
    }
  },
  "nbformat": 4,
  "nbformat_minor": 0
}
