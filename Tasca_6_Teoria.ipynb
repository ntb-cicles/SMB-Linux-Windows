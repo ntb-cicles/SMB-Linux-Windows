{
  "nbformat": 4,
  "nbformat_minor": 0,
  "metadata": {
    "colab": {
      "name": "Tasca 6 Teoria.ipynb",
      "provenance": [],
      "collapsed_sections": []
    },
    "kernelspec": {
      "name": "python3",
      "display_name": "Python 3"
    },
    "language_info": {
      "name": "python"
    }
  },
  "cells": [
    {
      "cell_type": "markdown",
      "source": [
        "En aquesta pràctica, els clients caldrà que es connectin **amb un usuari i contrasenya** per accedir a la carpeta compartida.\n",
        "\n",
        "\\\n",
        "\n",
        "A més a més, posarem restriccions per cada un dels usuaris que entrin a la nostra carpeta compartida. Igual que en pràctiques anteriors, limitarem els permisos de:\n",
        "\n",
        "\n",
        "*   Lectura (R)\n",
        "*   Escriptura (W)\n",
        "*   Execució (X)\n",
        "\n",
        "Segons l'**usuari** i **grup d'usuaris** que entri.\n",
        "\n"
      ],
      "metadata": {
        "id": "IUxztXuPqT3Z"
      }
    },
    {
      "cell_type": "markdown",
      "source": [
        "Primer cal crear els usuaris i grups d'usuaris tal com hem fet sempre en local amb les comandes **useradd** i  **groupadd**.\n",
        "\n",
        "Després, cal que assignem als usuaris locals (emmagatzemats al servidor) una **contrasenya de SAMBA**.\n",
        "\n",
        "\\\n",
        "\n",
        "La contrasenya de SAMBA d'un usuari pot ser diferent a la contrasenya que utilitza per entrar al seu propi usuari."
      ],
      "metadata": {
        "id": "e4relS2irbbx"
      }
    },
    {
      "cell_type": "markdown",
      "source": [
        "Com canviar contrasenya de SAMBA: https://www.samba.org/samba/docs/current/man-html/smbpasswd.8.html "
      ],
      "metadata": {
        "id": "q4bAuRhKyBxy"
      }
    },
    {
      "cell_type": "code",
      "execution_count": null,
      "metadata": {
        "id": "4UBqfHxTqQNA"
      },
      "outputs": [],
      "source": [
        "sudo smbpasswd -a NOM_USUARI"
      ]
    },
    {
      "cell_type": "markdown",
      "source": [
        "Com eliminar grups d'usuaris"
      ],
      "metadata": {
        "id": "4qN1yoLLrObd"
      }
    },
    {
      "cell_type": "code",
      "source": [
        "sudo usermod -a -G groupname username # afegir \"username\" a \"groupname\"\n",
        "sudo gpasswd -d username groupname # treure \"username\" de \"groupname\"\n",
        "sudo groupdel groupname"
      ],
      "metadata": {
        "id": "3BxlLiMMrR0K"
      },
      "execution_count": null,
      "outputs": []
    },
    {
      "cell_type": "markdown",
      "source": [
        "Com eliminar usuaris"
      ],
      "metadata": {
        "id": "inmXF63YrSBK"
      }
    },
    {
      "cell_type": "code",
      "source": [
        "userdel -r username # amb opció \"-r\" també esborrem el directori peronal de l'usuari \"username\""
      ],
      "metadata": {
        "id": "2MYjgGLArUHU"
      },
      "execution_count": null,
      "outputs": []
    },
    {
      "cell_type": "markdown",
      "source": [
        "Restringir els usuaris que poden ACCEDIR a la carpeta compartida"
      ],
      "metadata": {
        "id": "kOUQWX4CyM4a"
      }
    },
    {
      "cell_type": "code",
      "source": [
        "valid\tusers= usuari1,usuari2,usuari3\n"
      ],
      "metadata": {
        "id": "5dyOUmLbyNE1"
      },
      "execution_count": null,
      "outputs": []
    },
    {
      "cell_type": "markdown",
      "source": [
        "Restringir els usuaris que poden LLEGIR a la carpeta compartida"
      ],
      "metadata": {
        "id": "O-JRn3TMyPJY"
      }
    },
    {
      "cell_type": "code",
      "source": [
        "read list= usuari1,usuari2,usuari3"
      ],
      "metadata": {
        "id": "AwMgeaOayPVI"
      },
      "execution_count": null,
      "outputs": []
    },
    {
      "cell_type": "markdown",
      "source": [
        "Restringir els usuaris que poden ESCRIURE a la carpeta compartida"
      ],
      "metadata": {
        "id": "1Um6mHYJyP29"
      }
    },
    {
      "cell_type": "code",
      "source": [
        "write\tlist= usuari1,usuari2,usuari3"
      ],
      "metadata": {
        "id": "1I8e9_0eyQND"
      },
      "execution_count": null,
      "outputs": []
    },
    {
      "cell_type": "markdown",
      "source": [
        "També de restringir per **usuaris**, també ho podem fer per **grups d'usuaris**"
      ],
      "metadata": {
        "id": "l6zg7OD-ynxW"
      }
    },
    {
      "cell_type": "code",
      "source": [
        "write\tlist= usuari1,usuari2,usuari3,@grup1,@grup2"
      ],
      "metadata": {
        "id": "zK5xwyGfyn8t"
      },
      "execution_count": null,
      "outputs": []
    }
  ]
}