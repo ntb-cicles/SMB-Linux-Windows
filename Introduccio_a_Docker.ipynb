{
  "nbformat": 4,
  "nbformat_minor": 0,
  "metadata": {
    "colab": {
      "name": "Introduccio a Docker.ipynb",
      "provenance": [],
      "collapsed_sections": [],
      "include_colab_link": true
    },
    "kernelspec": {
      "name": "python3",
      "display_name": "Python 3"
    },
    "language_info": {
      "name": "python"
    }
  },
  "cells": [
    {
      "cell_type": "markdown",
      "metadata": {
        "id": "view-in-github",
        "colab_type": "text"
      },
      "source": [
        "<a href=\"https://colab.research.google.com/github/ntb-cicles/SMB-Linux-Windows/blob/main/Introduccio_a_Docker.ipynb\" target=\"_parent\"><img src=\"https://colab.research.google.com/assets/colab-badge.svg\" alt=\"Open In Colab\"/></a>"
      ]
    },
    {
      "cell_type": "markdown",
      "source": [
        "# Què és Docker?\n",
        "\n",
        "**Docker és una plataforma que ens permet crear i gestionar entorns aïllats per executar una aplicació**.\n",
        "\n",
        "Dins de docker podem crear un o més entorn diferents. Cada entorn pot tenir els seus fitxers de configuració i programari amb versions determinades.\n",
        "\n",
        "A cada un dels entorns de Docker se'ls anomena **Containers**."
      ],
      "metadata": {
        "id": "yUY1ElOsCLia"
      }
    },
    {
      "cell_type": "markdown",
      "source": [
        "Docker és útil per desenvolupar aplicacions que funcionin correctament en qualsevol màquina. Així evitem la típica situació de \"en mi máquina funcionaba\".\n",
        "\n",
        "\\\n",
        "\n",
        "Cal tenir en compte que en cada màquina i Sistema Operatiu tenim diferències en:\n",
        "\n",
        "*   Fitxers del sistema. Per exemple, fitxers de configuració de les variables d'entorn.\n",
        "*   Fitxers personals. Per exemple, un document .txt creat per nosaltres el qual una aplicació està llegint constantment.\n",
        "*   Versions de programari. Algunes aplicacions depenen d'altres aplicacions, i si hi ha diferències en les versions de les aplicacions podem tenir problemes.\n",
        "\n",
        "\n",
        "\n",
        "\n",
        "\n",
        "\n"
      ],
      "metadata": {
        "id": "fucIolGTC006"
      }
    },
    {
      "cell_type": "markdown",
      "source": [
        "# Containers vs Màquines Virtuals\n",
        "\n",
        "La definició de Container com a \"entorn aïllat per executar una aplicació\" ens sona molt, ja que podem fer exactament això amb una màquina virtual. \n",
        "\n",
        "\\\n",
        "\n",
        "Tot i això, un Container de Docker no és el mateix que una màquina virtual.\n",
        "\n",
        "\\\n",
        "\n",
        "Una màquina virtual és una abstracció d'una màquina, és a dir, simula el hardware d'un ordinador real; i cal que li instal·lem un sistema operatiu.\n",
        "\n",
        "En canvi, en un Container de Docker, no cal que li instal·lem cap sistema operatiu ni simula hardware. Docker utilitza el Sistema Operatiu host per a tots el Containers.\n",
        "\n",
        "Per tant, un Container de Docker és molt més lleuger i molt més ràpid de crear i configurar.\n",
        "\n",
        "\n",
        "\n"
      ],
      "metadata": {
        "id": "mXzsm9TnHb93"
      }
    },
    {
      "cell_type": "markdown",
      "source": [
        "# Arquitectura de Docker\n",
        "\n"
      ],
      "metadata": {
        "id": "tIL_VbwGKMi4"
      }
    },
    {
      "cell_type": "markdown",
      "source": [
        "## Quins Sistemes Operatius podem provar amb Docker?"
      ],
      "metadata": {
        "id": "-jLeiELXKRbS"
      }
    },
    {
      "cell_type": "markdown",
      "source": [
        "Com hem dit anteriorment, Docker utilitza el Sistema Operatiu host per a tots el Containers. \n",
        "\n",
        "\\\n",
        "\n",
        "Però, si per exemple estem utilitzant un sistema Linux, podem provar aplicacions que funcionin també en Windows?\n",
        "\n",
        "\\\n",
        "\n",
        "\n",
        "*   Amb un SO Windows, podem **provar aplicacions per a Windows i per a Linux**\n",
        "*   Amb un SO Linux, podem **provar aplicacions per a Linux**.\n",
        "*   Amb un SO MacOS, podem **provar aplicacions per a MacOS i per a Linux**.\n",
        "\n",
        "\\\n"
      ],
      "metadata": {
        "id": "WmgYpsTvKbwo"
      }
    },
    {
      "cell_type": "markdown",
      "source": [
        "Això es deu a què **a partir de Windows 10, els SO Windows vénen amb dos Kernels: el Kernel de Windows i el Kernel de Linux**.\n",
        "\n",
        "\\\n",
        "\n",
        "En canvi, **els SO Linux només vénen amb el kernel de Linux**. Això es déu a què el kernel de Linux és obert i lliure (tothom pot veure, modificar i distribuïr el codi lliurement), en canvi el kernel de Windows és tancat i privatiu (ningú fora de Microsoft el pot veure, modificar o distribuïr el codi) \n",
        "\n",
        "\\\n",
        "\n",
        "El kernel de MacOS, igual que en Windows, és tancat i privatiu, i també porta el kernel de Linux. "
      ],
      "metadata": {
        "id": "Qcs9PYroMcFy"
      }
    },
    {
      "cell_type": "markdown",
      "source": [
        "## Kernel"
      ],
      "metadata": {
        "id": "5f__-P5nKYLa"
      }
    },
    {
      "cell_type": "markdown",
      "source": [
        "Un Kernel, també conegut com \"nucli del sistema operatiu\" **és la versió més petita possible d'un sistema operatiu**. El kernel és capaç de comunicar-se amb el hardware per executar aplicacions, i res més.\n",
        "\n",
        "\\\n",
        "\n",
        "Per tant, per executar una aplicació en un SO Linux, com a mínim necessites el kernel de Linux."
      ],
      "metadata": {
        "id": "kuql8sDqMlH9"
      }
    },
    {
      "cell_type": "markdown",
      "source": [
        "# Instal·lar Docker"
      ],
      "metadata": {
        "id": "VKeI-QSx7J_w"
      }
    },
    {
      "cell_type": "code",
      "execution_count": null,
      "metadata": {
        "id": "XcUxBeU07E9c"
      },
      "outputs": [],
      "source": [
        "sudo apt update\n",
        "sudo apt install samba"
      ]
    },
    {
      "cell_type": "markdown",
      "source": [
        "Parar el daemon de \"Samba\" \\\n",
        "Un daemon és un procés que s'executa en segon pla. \\\n",
        "\\\n",
        "Comprovem que el procès de Samba (smbd) està executant-se:"
      ],
      "metadata": {
        "id": "URL0QL3h7P9Z"
      }
    },
    {
      "cell_type": "code",
      "source": [
        "sudo systemctl status smbd"
      ],
      "metadata": {
        "id": "8H8SozL07QIh"
      },
      "execution_count": null,
      "outputs": []
    },
    {
      "cell_type": "markdown",
      "source": [
        "Si està actiu (executant-se), l'aturem"
      ],
      "metadata": {
        "id": "ZG1xEwS37QPz"
      }
    },
    {
      "cell_type": "code",
      "source": [
        "sudo systemctl stop smbd"
      ],
      "metadata": {
        "id": "-Fzuswhq7QX6"
      },
      "execution_count": null,
      "outputs": []
    },
    {
      "cell_type": "markdown",
      "source": [
        "# Modificant la configuració de SAMBA\n",
        "\n",
        "Algunes vegades no farà falta modificar aquest fitxer ja que la configuració per defecte ja ens funcionaria, però \n",
        "\n",
        "La ruta (absoluta) fins al fitxer que volem modificar és la següent:"
      ],
      "metadata": {
        "id": "nzNQo-m_7Qd_"
      }
    },
    {
      "cell_type": "code",
      "source": [
        "vi /etc/samba/smb.conf # editor de text VIM\n",
        "nano /etc/samba/smb.conf # editor de text NANO"
      ],
      "metadata": {
        "id": "M5vyQAgd7Qls"
      },
      "execution_count": null,
      "outputs": []
    },
    {
      "cell_type": "markdown",
      "source": [
        "Fem una còpia de seguretat (backup) del fitxer de configuració abans de modificar-lo.\n",
        "\n",
        "Per fer la còpia simplement podeu fer: \n",
        "\n"
      ],
      "metadata": {
        "id": "PdNeulfS7Qsi"
      }
    },
    {
      "cell_type": "code",
      "source": [
        "cp  /etc/samba/smb.conf  /etc/samba/smb.conf.backup\n",
        "nano /etc/samba/smb.conf\n",
        "\n",
        "# o per modificar-lo des de zero:\n",
        "\n",
        "cp  /etc/samba/smb.conf  /etc/samba/smb.conf.backup\n",
        "rm /etc/samba/smb.conf\n",
        "nano /etc/samba/smb.conf"
      ],
      "metadata": {
        "id": "3SbD8XLe7Q1E"
      },
      "execution_count": null,
      "outputs": []
    },
    {
      "cell_type": "markdown",
      "source": [
        "# Com utilitzar NANO (bàsic)\n",
        "\n",
        "Guardar contingut del fitxer:\n",
        "\n",
        "`CTRL + \"O\" + ENTER `    \n",
        "\n",
        "\\\n",
        "\n",
        "Copiar text:\n",
        "\n",
        "- Selecciona amb `CTRL`\n",
        "\n",
        "- Retalla amb `CTRL + \"K\"`\n",
        "\n",
        "- Enganxa amb `CTRL + \"U\"` més d'una vegada\n",
        "\n",
        "\\\n",
        "\n",
        "Desfer els canvis (Undo):\n",
        "\n",
        "`ALT + \"U\"` o `ESC + \"U\"`\n",
        "\n",
        "\\\n",
        "\n",
        "Desfer els canvis (redo):\n",
        "\n",
        "`ALT + \"E\"` o `ESC + \"E\"`\n",
        "\n",
        "\\\n",
        "\n",
        "Tancar l'editor NANO:\n",
        "\n",
        "`CTRL + \"X\"`"
      ],
      "metadata": {
        "id": "LsPfg1hJ1ElK"
      }
    },
    {
      "cell_type": "markdown",
      "source": [
        "# Sitaxi del fitxer smb.conf\n",
        "\n",
        "## Configuració global (només en tenim una!) de SAMBA\n",
        "\n",
        "[**global**] -> `Configuracions que apliquen a tota la configuració de SAMBA`\n",
        "\n",
        "\\\n",
        "\n",
        "server string = **El meu server de Fitxers** `# Nom del servidor.`\n",
        "\n",
        "\\\n",
        "\n",
        "workgroup = **DAW1** `# Nom del Grup de treball.`\n",
        "\n",
        "\\\n",
        "\n",
        "security = **user** `# Cada usuari tindrà la seva pròpia base de dades d’usuaris (noms d’usuari i contrasenyes locals), no tenim cap base centralitzada. Per tant, estem utilitzant un model P2P.`\n",
        "\n",
        "\\\n",
        "\n",
        "map to guest = **Bad User** `# No fa falta un compte d'usuari per realitzar la connexió. És a dir, completament obert a tothom. Si estàas utilitzant un compte no vàlid/bloquejat/guest et deixaria entrar igual.`\n",
        "\n",
        "\\\n",
        "\n",
        "name resolve order = **bcast host** `# L'ordre amb el qual comprovarà el nom dels hosts (equips de la xarxa). Primer broadcast. No fa falta entendre aquest concepte de moment.`\n",
        "\n",
        "\n"
      ],
      "metadata": {
        "id": "JC5d8mk27Q7S"
      }
    },
    {
      "cell_type": "code",
      "source": [
        "[global]\n",
        "server string = El meu servidor de fitxers\n",
        "workgroup = DAW1\n",
        "security = user\n",
        "map to guest = Bad User\n",
        "name resolve order = bcast host\n"
      ],
      "metadata": {
        "id": "VPvhtLod7RCM"
      },
      "execution_count": null,
      "outputs": []
    },
    {
      "cell_type": "markdown",
      "source": [
        "## Configuracions específiques (em podem tenir més d'una) de SAMBA\n"
      ],
      "metadata": {
        "id": "be_p1c_e7RIy"
      }
    },
    {
      "cell_type": "markdown",
      "source": [
        "Carpeta compartida sense restriccions"
      ],
      "metadata": {
        "id": "QYabsEDimBve"
      }
    },
    {
      "cell_type": "code",
      "source": [
        "[Fitxers oberts]\n",
        "path = /fitxers_samba/provaoberts\n",
        "force user = smbusuari\n",
        "force group = smbgrup\n",
        "\n",
        "# Definir els permisos en Linux, ja que el format de permisos en Windows no és tan específic!\n",
        "create mask = 0664 # màscara de permisos que tindràn els fitxers en aquest directori\n",
        "force create mode = 0664 \n",
        "directory mask = 0775 # màscara de permisos que tindràn els directoris en aquest directori\n",
        "force directory mode = 0775\n",
        "public = yes # accesible per tothom\n",
        "writable = yes # podem escriure en el directori\n"
      ],
      "metadata": {
        "id": "30XmCUdS7RPF"
      },
      "execution_count": null,
      "outputs": []
    },
    {
      "cell_type": "code",
      "source": [
        "sudo mkdir -p /fitxers_samba/provaoberts   # Paràmetre -p serveix per crear una carpeta i subdirectoris en una mateixa comanda"
      ],
      "metadata": {
        "id": "8RfYv0qf8uVk"
      },
      "execution_count": null,
      "outputs": []
    },
    {
      "cell_type": "markdown",
      "source": [
        "Carpeta compartida amb restriccions"
      ],
      "metadata": {
        "id": "5qz-0FO97RVo"
      }
    },
    {
      "cell_type": "code",
      "source": [
        "[Fitxers amb mes restriccions]\n",
        "path = /fitxers_samba/provatancats\n",
        "force user = smbusuari\n",
        "force group = smbgrup\n",
        "\n",
        "# Definir els permisos en Linux, ja que el format de permisos en Windows no és tan específic!\n",
        "create mask = 0664 # màscara de permisos que tindràn els fitxers en aquest directori\n",
        "force create mode = 0664 \n",
        "directory mask = 0775 # màscara de permisos que tindràn els directoris en aquest directori\n",
        "force directory mode = 0775\n",
        "public = yes # accesible per tothom\n",
        "writable = no # NO podem escriure en el directori (ni modificar fitxers ni esborrar-los)"
      ],
      "metadata": {
        "id": "hDlC0G0d7Rbo"
      },
      "execution_count": null,
      "outputs": []
    },
    {
      "cell_type": "code",
      "source": [
        "sudo mkdir -p /fitxers_samba/provatancats"
      ],
      "metadata": {
        "id": "rI0o86jy837d"
      },
      "execution_count": null,
      "outputs": []
    },
    {
      "cell_type": "code",
      "source": [
        "ls -l /fitxers_samba"
      ],
      "metadata": {
        "id": "NOJXA9lhkXC2"
      },
      "execution_count": null,
      "outputs": []
    },
    {
      "cell_type": "markdown",
      "source": [
        "Ara caldria crear el grup \"smbgrup\" i l'usuari \"smbusuari\":"
      ],
      "metadata": {
        "id": "O28ye6aqkeXB"
      }
    },
    {
      "cell_type": "code",
      "source": [
        "sudo groupadd --system smbgrup   # El paràmetre \"--system\" significa que serà un grup del sistema en comptes d'un grup normal. L'única diferència és que un grup del sistema té un GID més baix i normalment s'utilitzen per fer manteniment del sistema o automatitzar tasques de còpies de seguretat\n",
        "sudo useradd --system --group smbgrup smbusuari   # El paràmetre \"--system\" significa que serà un grup del sistema en comptes d'un grup normal. L'única diferència és que un usuari del sistema té un UID més baix i normalment s'utilitzen per fer manteniment del sistema o automatitzar tasques de còpies de seguretat. \n",
        "                                          # Normalment, un usuari del sistema no se li fa login ja que ha de treballar sol en segon plà"
      ],
      "metadata": {
        "id": "5X9L7QdXkl-u"
      },
      "execution_count": null,
      "outputs": []
    },
    {
      "cell_type": "markdown",
      "source": [
        "La carpeta compartida ha de ser propietat del usuari i grup que hem creat"
      ],
      "metadata": {
        "id": "YLvwO7FC2uOw"
      }
    },
    {
      "cell_type": "code",
      "source": [
        "sudo chown -R smbusuari:smbgrup /fitxers_samba\n",
        "sudo chmod -R g+w /fitxers_samba"
      ],
      "metadata": {
        "id": "gOVQOWZh1hUB"
      },
      "execution_count": null,
      "outputs": []
    },
    {
      "cell_type": "code",
      "source": [
        "sudo systemctl status smbd\n",
        "sudo systemctl start smbd\n",
        "\n",
        "sudo systemctl restart smbd # si us heu oblidat de pararlo, en comptes de start cal fer un re-start"
      ],
      "metadata": {
        "id": "VqhohseR2_ha"
      },
      "execution_count": null,
      "outputs": []
    },
    {
      "cell_type": "markdown",
      "source": [
        "# PING"
      ],
      "metadata": {
        "id": "g-WSyowKLIVv"
      }
    },
    {
      "cell_type": "markdown",
      "source": [
        "Per defecte, VirtualBox dóna la mateixa adreça IP per defecte a tots els dispositius que es connecten per NAT. Això fa que no et puguis comunicar entre màquines virtuals.\n",
        "\n",
        "\n",
        "Per connectar-vos correctament entre màquines virtuals, cal crear una xarxa NAT separada.\n",
        "\n"
      ],
      "metadata": {
        "id": "6YUAAf5zLbfo"
      }
    }
  ]
}